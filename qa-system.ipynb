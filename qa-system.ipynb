{
 "cells": [
  {
   "cell_type": "code",
   "execution_count": 12,
   "metadata": {},
   "outputs": [
    {
     "name": "stderr",
     "output_type": "stream",
     "text": [
      "WARNING:datasets.load:Using the latest cached version of the module from /Users/petropolis/.cache/huggingface/modules/datasets_modules/datasets/subjqa/2c12e496c4c675ab4a57ffb5d3f538f2e7b89793956e50da37126393ce23b6c6 (last modified on Tue May 23 01:50:46 2023) since it couldn't be found locally at subjqa., or remotely on the Hugging Face Hub.\n"
     ]
    },
    {
     "data": {
      "text/plain": [
       "['books', 'electronics', 'grocery', 'movies', 'restaurants', 'tripadvisor']"
      ]
     },
     "execution_count": 12,
     "metadata": {},
     "output_type": "execute_result"
    }
   ],
   "source": [
    "from datasets import get_dataset_config_names\n",
    "\n",
    "domains = get_dataset_config_names(\"subjqa\")\n",
    "domains"
   ]
  },
  {
   "attachments": {},
   "cell_type": "markdown",
   "metadata": {},
   "source": [
    "Vamos focar em criar um QA System para eletrônicos"
   ]
  },
  {
   "cell_type": "code",
   "execution_count": 13,
   "metadata": {},
   "outputs": [
    {
     "name": "stderr",
     "output_type": "stream",
     "text": [
      "WARNING:datasets.load:Using the latest cached version of the module from /Users/petropolis/.cache/huggingface/modules/datasets_modules/datasets/subjqa/2c12e496c4c675ab4a57ffb5d3f538f2e7b89793956e50da37126393ce23b6c6 (last modified on Tue May 23 01:50:46 2023) since it couldn't be found locally at subjqa., or remotely on the Hugging Face Hub.\n",
      "WARNING:datasets.builder:Found cached dataset subjqa (/Users/petropolis/.cache/huggingface/datasets/subjqa/electronics/1.1.0/2c12e496c4c675ab4a57ffb5d3f538f2e7b89793956e50da37126393ce23b6c6)\n"
     ]
    },
    {
     "data": {
      "application/vnd.jupyter.widget-view+json": {
       "model_id": "339e56ff08ad4042a67cf1544e1ac539",
       "version_major": 2,
       "version_minor": 0
      },
      "text/plain": [
       "  0%|          | 0/3 [00:00<?, ?it/s]"
      ]
     },
     "metadata": {},
     "output_type": "display_data"
    }
   ],
   "source": [
    "from datasets import load_dataset\n",
    "subjqa = load_dataset(\"subjqa\", name=\"electronics\")"
   ]
  },
  {
   "cell_type": "code",
   "execution_count": 14,
   "metadata": {},
   "outputs": [
    {
     "name": "stdout",
     "output_type": "stream",
     "text": [
      "{'text': ['Bass is weak as expected', 'Bass is weak as expected, even with EQ adjusted up'], 'answer_start': [1302, 1302], 'answer_subj_level': [1, 1], 'ans_subj_score': [0.5083333253860474, 0.5083333253860474], 'is_ans_subjective': [True, True]}\n"
     ]
    }
   ],
   "source": [
    "print(subjqa[\"train\"][\"answers\"][1])"
   ]
  },
  {
   "attachments": {},
   "cell_type": "markdown",
   "metadata": {},
   "source": [
    "Podemos ver que as Answer são armazenadas num campo de texto, enquanto o char de start é provido pelo campo *answer_start*"
   ]
  },
  {
   "cell_type": "code",
   "execution_count": 15,
   "metadata": {},
   "outputs": [
    {
     "name": "stdout",
     "output_type": "stream",
     "text": [
      "Number of questions in train: 1295\n",
      "Number of questions in test: 358\n",
      "Number of questions in validation: 255\n"
     ]
    }
   ],
   "source": [
    "import pandas as pd\n",
    "dfs = {split: dset.to_pandas() for split, dset in subjqa.flatten().items()}\n",
    "for split, df in dfs.items():\n",
    "  print(f\"Number of questions in {split}: {df['id'].nunique()}\")"
   ]
  },
  {
   "attachments": {},
   "cell_type": "markdown",
   "metadata": {},
   "source": [
    "Podemos ver que o dataset é relativamente pequeno. Isso é comum dentro do mundo de QA."
   ]
  },
  {
   "cell_type": "code",
   "execution_count": 16,
   "metadata": {},
   "outputs": [
    {
     "data": {
      "text/html": [
       "<div>\n",
       "<style scoped>\n",
       "    .dataframe tbody tr th:only-of-type {\n",
       "        vertical-align: middle;\n",
       "    }\n",
       "\n",
       "    .dataframe tbody tr th {\n",
       "        vertical-align: top;\n",
       "    }\n",
       "\n",
       "    .dataframe thead th {\n",
       "        text-align: right;\n",
       "    }\n",
       "</style>\n",
       "<table border=\"1\" class=\"dataframe\">\n",
       "  <thead>\n",
       "    <tr style=\"text-align: right;\">\n",
       "      <th></th>\n",
       "      <th>title</th>\n",
       "      <th>question</th>\n",
       "      <th>answers.text</th>\n",
       "      <th>answers.answer_start</th>\n",
       "      <th>context</th>\n",
       "    </tr>\n",
       "  </thead>\n",
       "  <tbody>\n",
       "    <tr>\n",
       "      <th>791</th>\n",
       "      <td>B005DKZTMG</td>\n",
       "      <td>Does the keyboard lightweight?</td>\n",
       "      <td>[this keyboard is compact]</td>\n",
       "      <td>[215]</td>\n",
       "      <td>I really like this keyboard.  I give it 4 stars because it doesn't have a CA...</td>\n",
       "    </tr>\n",
       "    <tr>\n",
       "      <th>1159</th>\n",
       "      <td>B00AAIPT76</td>\n",
       "      <td>How is the battery?</td>\n",
       "      <td>[]</td>\n",
       "      <td>[]</td>\n",
       "      <td>I bought this after the first spare gopro battery I bought wouldn't hold a c...</td>\n",
       "    </tr>\n",
       "  </tbody>\n",
       "</table>\n",
       "</div>"
      ],
      "text/plain": [
       "           title                        question                answers.text   \n",
       "791   B005DKZTMG  Does the keyboard lightweight?  [this keyboard is compact]  \\\n",
       "1159  B00AAIPT76             How is the battery?                          []   \n",
       "\n",
       "     answers.answer_start   \n",
       "791                 [215]  \\\n",
       "1159                   []   \n",
       "\n",
       "                                                                              context  \n",
       "791   I really like this keyboard.  I give it 4 stars because it doesn't have a CA...  \n",
       "1159  I bought this after the first spare gopro battery I bought wouldn't hold a c...  "
      ]
     },
     "execution_count": 16,
     "metadata": {},
     "output_type": "execute_result"
    }
   ],
   "source": [
    "qa_cols = [\"title\", \"question\", \"answers.text\",\n",
    "               \"answers.answer_start\", \"context\"]\n",
    "sample_df = dfs[\"train\"][qa_cols].sample(2, random_state=7)\n",
    "sample_df"
   ]
  },
  {
   "attachments": {},
   "cell_type": "markdown",
   "metadata": {},
   "source": [
    "Podemos ver que temos problemas de gramaticais, o que é comum no contexto de FAQ de produto. Também vemos que uma *answers.text* vazia denota uma resposta que não foi possível achar em nenhum review."
   ]
  },
  {
   "cell_type": "code",
   "execution_count": 17,
   "metadata": {},
   "outputs": [
    {
     "data": {
      "text/plain": [
       "'this keyboard is compact'"
      ]
     },
     "execution_count": 17,
     "metadata": {},
     "output_type": "execute_result"
    }
   ],
   "source": [
    "\n",
    "start_idx = sample_df[\"answers.answer_start\"].iloc[0][0]\n",
    "end_idx = start_idx + len(sample_df[\"answers.text\"].iloc[0][0])\n",
    "sample_df[\"context\"].iloc[0][start_idx:end_idx]"
   ]
  },
  {
   "cell_type": "code",
   "execution_count": null,
   "metadata": {},
   "outputs": [],
   "source": [
    "import matplotlib.pyplot as plt\n",
    "%matplotlib inline"
   ]
  },
  {
   "cell_type": "code",
   "execution_count": 19,
   "metadata": {},
   "outputs": [
    {
     "data": {
      "image/png": "[encoded data removed]",
      "text/plain": [
       "<Figure size 640x480 with 1 Axes>"
      ]
     },
     "metadata": {},
     "output_type": "display_data"
    }
   ],
   "source": [
    "counts = {}\n",
    "question_types = [\"What\", \"How\", \"Is\", \"Does\", \"Do\", \"Was\", \"Where\", \"Why\"]\n",
    "for q in question_types:\n",
    "  counts[q] = dfs[\"train\"][\"question\"].str.startswith(q).value_counts()[True]\n",
    "pd.Series(counts).sort_values().plot.barh()\n",
    "plt.title(\"Frequency of Question Types\")\n",
    "plt.show()"
   ]
  },
  {
   "cell_type": "code",
   "execution_count": 20,
   "metadata": {},
   "outputs": [
    {
     "name": "stdout",
     "output_type": "stream",
     "text": [
      "How is the camera?\n",
      "How do you like the control?\n",
      "How fast is the charger?\n",
      "What is direction?\n",
      "What is the quality of the construction of the bag?\n",
      "What is your impression of the product?\n",
      "Is this how zoom works?\n",
      "Is sound clear?\n",
      "Is it a wireless keyboard?\n"
     ]
    }
   ],
   "source": [
    "for question_type in [\"How\", \"What\", \"Is\"]:\n",
    "  for question in (\n",
    "    dfs[\"train\"][dfs[\"train\"].question.str.startswith(question_type)]\n",
    "    .sample(n=3, random_state=42)['question']):\n",
    "    print(question)"
   ]
  },
  {
   "cell_type": "code",
   "execution_count": 21,
   "metadata": {},
   "outputs": [],
   "source": [
    "from transformers import AutoTokenizer\n",
    "model_ckpt = \"deepset/minilm-uncased-squad2\"\n",
    "tokenizer = AutoTokenizer.from_pretrained(model_ckpt)"
   ]
  },
  {
   "cell_type": "code",
   "execution_count": 22,
   "metadata": {},
   "outputs": [],
   "source": [
    "question = \"How much music can this hold?\"\n",
    "context = \"\"\"An MP3 is about 1 MB/minute, so about 6000 hours depending on \\ file size.\"\"\"\n",
    "inputs = tokenizer(question, context, return_tensors=\"pt\")"
   ]
  },
  {
   "cell_type": "code",
   "execution_count": 23,
   "metadata": {},
   "outputs": [
    {
     "data": {
      "text/plain": [
       "'[CLS] how much music can this hold? [SEP] an mp3 is about 1 mb / minute, so about 6000 hours depending on \\\\ file size. [SEP]'"
      ]
     },
     "execution_count": 23,
     "metadata": {},
     "output_type": "execute_result"
    }
   ],
   "source": [
    "tokenizer.decode(inputs[\"input_ids\"][0])"
   ]
  },
  {
   "cell_type": "code",
   "execution_count": 24,
   "metadata": {},
   "outputs": [
    {
     "name": "stdout",
     "output_type": "stream",
     "text": [
      "QuestionAnsweringModelOutput(loss=None, start_logits=tensor([[-0.7600, -4.7565, -5.4027, -5.2368, -5.2771, -5.4985, -4.9769, -6.1621,\n",
      "         -0.7600,  0.6527,  0.0474, -1.4596,  4.0708,  5.2617, -0.7022, -3.8406,\n",
      "         -1.4190, -4.6270, -1.4310,  3.7721,  4.5929, -0.3631, -3.3237, -5.1965,\n",
      "         -3.1124, -3.4640, -4.2704, -4.4887, -0.7600]]), end_logits=tensor([[-0.7715, -5.4826, -5.0251, -5.1502, -5.4228, -5.5347, -5.1739, -4.6997,\n",
      "         -0.7715, -3.6354, -0.5733, -3.6876, -2.8507, -0.8947,  0.6139, -2.4160,\n",
      "          5.4288,  0.2895, -3.0944, -3.3933,  0.7722,  5.4368, -0.8595, -5.0447,\n",
      "         -4.4632, -4.1436, -1.1829, -0.3302, -0.7715]]), hidden_states=None, attentions=None)\n"
     ]
    }
   ],
   "source": [
    "import torch\n",
    "from transformers import AutoModelForQuestionAnswering\n",
    "\n",
    "model = AutoModelForQuestionAnswering.from_pretrained(model_ckpt)\n",
    "with torch.no_grad():\n",
    "    outputs = model(**inputs)\n",
    "print(outputs)"
   ]
  },
  {
   "cell_type": "code",
   "execution_count": 25,
   "metadata": {},
   "outputs": [
    {
     "name": "stdout",
     "output_type": "stream",
     "text": [
      "Input IDs shape: torch.Size([1, 29])\n",
      "Start logits shape: torch.Size([1, 29])\n",
      "End logits shape: torch.Size([1, 29])\n"
     ]
    }
   ],
   "source": [
    "start_logits = outputs.start_logits\n",
    "end_logits = outputs.end_logits\n",
    "\n",
    "print(f\"Input IDs shape: {inputs.input_ids.size()}\")\n",
    "print(f\"Start logits shape: {start_logits.size()}\")\n",
    "print(f\"End logits shape: {end_logits.size()}\")"
   ]
  },
  {
   "cell_type": "code",
   "execution_count": 26,
   "metadata": {},
   "outputs": [
    {
     "name": "stdout",
     "output_type": "stream",
     "text": [
      "Question: How much music can this hold?\n",
      "Answer: 1 mb / minute, so about 6000 hours\n"
     ]
    }
   ],
   "source": [
    "import torch\n",
    "start_idx = torch.argmax(start_logits)\n",
    "end_idx = torch.argmax(end_logits) + 1\n",
    "answer_span = inputs[\"input_ids\"][0][start_idx:end_idx]\n",
    "answer = tokenizer.decode(answer_span)\n",
    "print(f\"Question: {question}\")\n",
    "print(f\"Answer: {answer}\")"
   ]
  },
  {
   "cell_type": "code",
   "execution_count": 27,
   "metadata": {},
   "outputs": [
    {
     "name": "stderr",
     "output_type": "stream",
     "text": [
      "/Users/petropolis/Library/Python/3.9/lib/python/site-packages/transformers/pipelines/question_answering.py:189: UserWarning: topk parameter is deprecated, use top_k instead\n",
      "  warnings.warn(\"topk parameter is deprecated, use top_k instead\", UserWarning)\n"
     ]
    },
    {
     "data": {
      "text/plain": [
       "[{'score': 0.23802001774311066,\n",
       "  'start': 16,\n",
       "  'end': 48,\n",
       "  'answer': '1 MB/minute, so about 6000 hours'},\n",
       " {'score': 0.23613080382347107,\n",
       "  'start': 16,\n",
       "  'end': 27,\n",
       "  'answer': '1 MB/minute'},\n",
       " {'score': 0.121951162815094, 'start': 38, 'end': 48, 'answer': '6000 hours'}]"
      ]
     },
     "execution_count": 27,
     "metadata": {},
     "output_type": "execute_result"
    }
   ],
   "source": [
    "from transformers import pipeline\n",
    "pipe = pipeline(\"question-answering\", model=model, tokenizer=tokenizer)\n",
    "pipe(question=question, context=context, topk=3)\n"
   ]
  },
  {
   "cell_type": "code",
   "execution_count": 28,
   "metadata": {},
   "outputs": [
    {
     "data": {
      "text/plain": [
       "{'score': 0.9193896055221558, 'start': 0, 'end': 0, 'answer': ''}"
      ]
     },
     "execution_count": 28,
     "metadata": {},
     "output_type": "execute_result"
    }
   ],
   "source": [
    "pipe(question=\"Why is there no data?\", context=context,\n",
    "     handle_impossible_answer=True)"
   ]
  },
  {
   "cell_type": "code",
   "execution_count": 29,
   "metadata": {},
   "outputs": [],
   "source": [
    "example = dfs[\"train\"].iloc[0][[\"question\", \"context\"]]\n",
    "tokenized_example = tokenizer(example[\"question\"], example[\"context\"],\n",
    "                              return_overflowing_tokens=True, max_length=100, stride=25, truncation=True)"
   ]
  },
  {
   "cell_type": "code",
   "execution_count": 30,
   "metadata": {},
   "outputs": [
    {
     "name": "stdout",
     "output_type": "stream",
     "text": [
      "Window #0 has 100 tokens\n",
      "Window #1 has 88 tokens\n"
     ]
    }
   ],
   "source": [
    "for idx, window in enumerate(tokenized_example[\"input_ids\"]):\n",
    "  print(f\"Window #{idx} has {len(window)} tokens\")"
   ]
  },
  {
   "cell_type": "code",
   "execution_count": 31,
   "metadata": {},
   "outputs": [
    {
     "name": "stdout",
     "output_type": "stream",
     "text": [
      "[CLS] how is the bass? [SEP] i have had koss headphones in the past, pro 4aa and qz - 99. the koss portapro is portable and has great bass response. the work great with my android phone and can be \" rolled up \" to be carried in my motorcycle jacket or computer bag without getting crunched. they are very light and don't feel heavy or bear down on your ears even after listening to music with them on all day. the sound is [SEP] \n",
      "\n",
      "[CLS] how is the bass? [SEP] and don't feel heavy or bear down on your ears even after listening to music with them on all day. the sound is night and day better than any ear - bud could be and are almost as good as the pro 4aa. they are \" open air \" headphones so you cannot match the bass to the sealed types, but it comes close. for $ 32, you cannot go wrong. [SEP] \n",
      "\n"
     ]
    }
   ],
   "source": [
    "for window in tokenized_example[\"input_ids\"]:\n",
    "  print(f\"{tokenizer.decode(window)} \\n\")"
   ]
  },
  {
   "cell_type": "code",
   "execution_count": null,
   "metadata": {},
   "outputs": [],
   "source": [
    "from haystack.utils import launch_es\n",
    "\n",
    "launch_es()"
   ]
  },
  {
   "cell_type": "code",
   "execution_count": 51,
   "metadata": {},
   "outputs": [
    {
     "name": "stdout",
     "output_type": "stream",
     "text": [
      "{\n",
      "  \"name\" : \"cf0b22cf2996\",\n",
      "  \"cluster_name\" : \"docker-cluster\",\n",
      "  \"cluster_uuid\" : \"NOsD_AXGRCqhfSdwVRiW8Q\",\n",
      "  \"version\" : {\n",
      "    \"number\" : \"7.9.2\",\n",
      "    \"build_flavor\" : \"default\",\n",
      "    \"build_type\" : \"docker\",\n",
      "    \"build_hash\" : \"d34da0ea4a966c4e49417f2da2f244e3e97b4e6e\",\n",
      "    \"build_date\" : \"2020-09-23T00:45:33.626720Z\",\n",
      "    \"build_snapshot\" : false,\n",
      "    \"lucene_version\" : \"8.6.2\",\n",
      "    \"minimum_wire_compatibility_version\" : \"6.8.0\",\n",
      "    \"minimum_index_compatibility_version\" : \"6.0.0-beta1\"\n",
      "  },\n",
      "  \"tagline\" : \"You Know, for Search\"\n",
      "}\n"
     ]
    }
   ],
   "source": [
    "!curl -X GET \"localhost:9200/?pretty\""
   ]
  },
  {
   "attachments": {},
   "cell_type": "markdown",
   "metadata": {},
   "source": [
    "# Usando o Haystack para criar um Pipeline de QA\n",
    "\n",
    "Em nosso exemplo de extração de resposta simples, fornecemos a pergunta e o contexto para o modelo.\n",
    "No entanto, na realidade, os usuários de nosso sistema fornecerão apenas uma pergunta sobre um produto, portanto, precisamos selecionar passagens relevantes entre todas as avaliações em nosso corpus. \n",
    "Uma maneira de fazer isso seria concatenar todas as avaliações de um determinado produto e alimentá-las ao modelo como um único e longo contexto. Embora simples, a desvantagem dessa abordagem é que o contexto pode se tornar extremamente longo e, assim, introduzir uma latência inaceitável para as consultas de nossos usuários. \n",
    "Por exemplo, vamos supor que, em média, cada produto tenha 30 avaliações e cada avaliação leve 100 milissegundos para ser processada. Se precisarmos processar todas as revisões para obter uma resposta, isso resultará em uma latência média de 3 segundos por consulta do usuário, muito tempo para sites de comércio eletrônico!\n",
    "Para lidar com isso, os sistemas modernos de controle de qualidade geralmente são baseados na arquitetura *retriever-reader*, que possui dois componentes principais:"
   ]
  },
  {
   "attachments": {},
   "cell_type": "markdown",
   "metadata": {},
   "source": [
    "**Retriever**\n",
    "- Responsável por recuperar documentos relevantes para uma determinada consulta. Retrievers são geralmente categorizados como esparsos ou densos. Recuperadores esparsos usam frequências de palavras para representar cada documento e consulta como um vetor esparso.11 A relevância de uma consulta e de um documento é determinada pelo cálculo de um produto interno dos vetores. Por outro lado, os retrievers densos usam codificadores como transformadores para representar a consulta e o documento como embeddings contextualizados (que são vetores densos). Essas incorporações codificam o significado semântico e permitem que os recuperadores densos melhorem a precisão da pesquisa ao entender o conteúdo da consulta."
   ]
  },
  {
   "attachments": {},
   "cell_type": "markdown",
   "metadata": {},
   "source": [
    "**Reader**\n",
    "- Responsável por extrair uma resposta dos documentos fornecidos pelo retriever. O Reader é geralmente um modelo de compreensão de leitura."
   ]
  },
  {
   "attachments": {},
   "cell_type": "markdown",
   "metadata": {},
   "source": [
    "<img src=\"https://raw.githubusercontent.com/nlp-with-transformers/notebooks/884293a3ab50071aa2afd1329ecf4a24f0793333//images/chapter07_retriever-reader.png\">"
   ]
  },
  {
   "cell_type": "code",
   "execution_count": 36,
   "metadata": {},
   "outputs": [],
   "source": [
    "from haystack.document_stores import ElasticsearchDocumentStore\n",
    "\n",
    "# Return the document embedding for later use with dense retriever \n",
    "document_store = ElasticsearchDocumentStore(return_embedding=True)"
   ]
  },
  {
   "attachments": {},
   "cell_type": "markdown",
   "metadata": {},
   "source": [
    "é sempre uma boa ideia apagar possíveis documentos que já estejam no servidor"
   ]
  },
  {
   "cell_type": "code",
   "execution_count": 37,
   "metadata": {},
   "outputs": [],
   "source": [
    "if len(document_store.get_all_documents()) or len(document_store.get_all_labels()) > 0:\n",
    "    document_store.delete_documents(\"document\")\n",
    "    document_store.delete_documents(\"label\")"
   ]
  },
  {
   "attachments": {},
   "cell_type": "markdown",
   "metadata": {},
   "source": [
    "os campos em \"meta\" podem ser usados para aplicar filtros nas buscas, então colocamos item_id e question_id para que possamos filtar pelo produto e pela pergunta"
   ]
  },
  {
   "cell_type": "code",
   "execution_count": 39,
   "metadata": {},
   "outputs": [
    {
     "name": "stdout",
     "output_type": "stream",
     "text": [
      "Loaded 1615 documents\n"
     ]
    }
   ],
   "source": [
    "for split, df in dfs.items():\n",
    "    # Exclude duplicate reviews\n",
    "    docs = [{\"content\": row[\"context\"], \n",
    "             \"meta\":{\"item_id\": row[\"title\"], \"question_id\": row[\"id\"], \n",
    "                     \"split\": split}} \n",
    "        for _,row in df.drop_duplicates(subset=\"context\").iterrows()]\n",
    "    document_store.write_documents(docs, index=\"document\")\n",
    "    \n",
    "print(f\"Loaded {document_store.get_document_count()} documents\")"
   ]
  },
  {
   "attachments": {},
   "cell_type": "markdown",
   "metadata": {},
   "source": [
    "# Inicializando um Retriever"
   ]
  },
  {
   "cell_type": "code",
   "execution_count": 40,
   "metadata": {},
   "outputs": [],
   "source": [
    "from haystack.nodes import BM25Retriever\n",
    "es_retriever = BM25Retriever(document_store=document_store)"
   ]
  },
  {
   "cell_type": "code",
   "execution_count": 64,
   "metadata": {},
   "outputs": [],
   "source": [
    "item_id = \"B0074BW614\"\n",
    "query = \"Is it good for reading?\"\n",
    "retrieved_docs = es_retriever.retrieve(\n",
    "    query=query, top_k=3, filters={\"item_id\":[item_id], \"split\":[\"train\"]})"
   ]
  },
  {
   "cell_type": "code",
   "execution_count": 109,
   "metadata": {},
   "outputs": [
    {
     "name": "stdout",
     "output_type": "stream",
     "text": [
      "{'content': 'This is a gift to myself.  I have been a kindle user for 4 years and this is my third one.  I never thought I would want a fire for I mainly use it for book reading.  I decided to try the fire for when I travel I take my laptop, my phone and my iPod classic.  I love my iPod but watching movies on the plane with it can be challenging because it is so small. Laptops battery life is not as good as the Kindle.  So the Fire combines for me what I needed all three to do. So far so good.', 'content_type': 'text', 'score': 0.6857824513476455, 'meta': {'__pydantic_initialised__': True, 'item_id': 'B0074BW614', 'question_id': '868e311275e26dbafe5af70774a300f3', 'split': 'train'}, 'embedding': None, 'id': '252e83e25d52df7311d597dc89eef9f6', '__pydantic_initialised__': True}\n"
     ]
    },
    {
     "data": {
      "text/html": [
       "<div>\n",
       "<style scoped>\n",
       "    .dataframe tbody tr th:only-of-type {\n",
       "        vertical-align: middle;\n",
       "    }\n",
       "\n",
       "    .dataframe tbody tr th {\n",
       "        vertical-align: top;\n",
       "    }\n",
       "\n",
       "    .dataframe thead th {\n",
       "        text-align: right;\n",
       "    }\n",
       "</style>\n",
       "<table border=\"1\" class=\"dataframe\">\n",
       "  <thead>\n",
       "    <tr style=\"text-align: right;\">\n",
       "      <th></th>\n",
       "      <th>content</th>\n",
       "      <th>content_type</th>\n",
       "      <th>score</th>\n",
       "      <th>meta</th>\n",
       "      <th>embedding</th>\n",
       "      <th>id</th>\n",
       "      <th>__pydantic_initialised__</th>\n",
       "    </tr>\n",
       "  </thead>\n",
       "  <tbody>\n",
       "    <tr>\n",
       "      <th>__pydantic_initialised__</th>\n",
       "      <td>This is a gift to myself.  I have been a kindle user for 4 years and this is...</td>\n",
       "      <td>text</td>\n",
       "      <td>0.685782</td>\n",
       "      <td>True</td>\n",
       "      <td>None</td>\n",
       "      <td>252e83e25d52df7311d597dc89eef9f6</td>\n",
       "      <td>True</td>\n",
       "    </tr>\n",
       "    <tr>\n",
       "      <th>item_id</th>\n",
       "      <td>This is a gift to myself.  I have been a kindle user for 4 years and this is...</td>\n",
       "      <td>text</td>\n",
       "      <td>0.685782</td>\n",
       "      <td>B0074BW614</td>\n",
       "      <td>None</td>\n",
       "      <td>252e83e25d52df7311d597dc89eef9f6</td>\n",
       "      <td>True</td>\n",
       "    </tr>\n",
       "    <tr>\n",
       "      <th>question_id</th>\n",
       "      <td>This is a gift to myself.  I have been a kindle user for 4 years and this is...</td>\n",
       "      <td>text</td>\n",
       "      <td>0.685782</td>\n",
       "      <td>868e311275e26dbafe5af70774a300f3</td>\n",
       "      <td>None</td>\n",
       "      <td>252e83e25d52df7311d597dc89eef9f6</td>\n",
       "      <td>True</td>\n",
       "    </tr>\n",
       "    <tr>\n",
       "      <th>split</th>\n",
       "      <td>This is a gift to myself.  I have been a kindle user for 4 years and this is...</td>\n",
       "      <td>text</td>\n",
       "      <td>0.685782</td>\n",
       "      <td>train</td>\n",
       "      <td>None</td>\n",
       "      <td>252e83e25d52df7311d597dc89eef9f6</td>\n",
       "      <td>True</td>\n",
       "    </tr>\n",
       "  </tbody>\n",
       "</table>\n",
       "</div>"
      ],
      "text/plain": [
       "                                                                                                  content   \n",
       "__pydantic_initialised__  This is a gift to myself.  I have been a kindle user for 4 years and this is...  \\\n",
       "item_id                   This is a gift to myself.  I have been a kindle user for 4 years and this is...   \n",
       "question_id               This is a gift to myself.  I have been a kindle user for 4 years and this is...   \n",
       "split                     This is a gift to myself.  I have been a kindle user for 4 years and this is...   \n",
       "\n",
       "                         content_type     score   \n",
       "__pydantic_initialised__         text  0.685782  \\\n",
       "item_id                          text  0.685782   \n",
       "question_id                      text  0.685782   \n",
       "split                            text  0.685782   \n",
       "\n",
       "                                                      meta embedding   \n",
       "__pydantic_initialised__                              True      None  \\\n",
       "item_id                                         B0074BW614      None   \n",
       "question_id               868e311275e26dbafe5af70774a300f3      None   \n",
       "split                                                train      None   \n",
       "\n",
       "                                                        id   \n",
       "__pydantic_initialised__  252e83e25d52df7311d597dc89eef9f6  \\\n",
       "item_id                   252e83e25d52df7311d597dc89eef9f6   \n",
       "question_id               252e83e25d52df7311d597dc89eef9f6   \n",
       "split                     252e83e25d52df7311d597dc89eef9f6   \n",
       "\n",
       "                          __pydantic_initialised__  \n",
       "__pydantic_initialised__                      True  \n",
       "item_id                                       True  \n",
       "question_id                                   True  \n",
       "split                                         True  "
      ]
     },
     "execution_count": 109,
     "metadata": {},
     "output_type": "execute_result"
    }
   ],
   "source": [
    "print(retrieved_docs[0].to_dict())\n",
    "\n",
    "pd.DataFrame(retrieved_docs[0].to_dict())"
   ]
  },
  {
   "attachments": {},
   "cell_type": "markdown",
   "metadata": {},
   "source": [
    "Além do texto do documento, podemos ver a pontuação que o Elasticsearch calculou por sua relevância para a consulta"
   ]
  },
  {
   "cell_type": "code",
   "execution_count": 34,
   "metadata": {},
   "outputs": [
    {
     "name": "stdout",
     "output_type": "stream",
     "text": [
      "env: TOKENIZERS_PARALLELISM=false\n"
     ]
    }
   ],
   "source": [
    "%env TOKENIZERS_PARALLELISM=false"
   ]
  },
  {
   "attachments": {},
   "cell_type": "markdown",
   "metadata": {},
   "source": [
    "# Inicializando um Reader"
   ]
  },
  {
   "cell_type": "code",
   "execution_count": 43,
   "metadata": {},
   "outputs": [],
   "source": [
    "from haystack.reader.farm import FARMReader\n",
    "model_ckpt = \"deepset/minilm-uncased-squad2\"\n",
    "max_seq_length, doc_stride = 384, 128\n",
    "reader = FARMReader(model_name_or_path=model_ckpt, progress_bar=False,\n",
    "                    max_seq_len=max_seq_length, doc_stride=doc_stride,\n",
    "                    return_no_answer=True)"
   ]
  },
  {
   "cell_type": "code",
   "execution_count": 44,
   "metadata": {},
   "outputs": [
    {
     "name": "stdout",
     "output_type": "stream",
     "text": [
      "{'query': 'How much music can this hold?', 'no_ans_gap': 12.229920625686646, 'answers': [<Answer {'answer': '1 MB/minute, so about 6000 hours', 'type': 'extractive', 'score': 0.48596009612083435, 'context': 'An MP3 is about 1 MB/minute, so about 6000 hours depending on \\\\ file size.', 'offsets_in_document': [{'start': 16, 'end': 48}], 'offsets_in_context': [{'start': 16, 'end': 48}], 'document_id': '697f6abf4828aa51d34e58ddc4b639b4', 'meta': {}}>]}\n"
     ]
    }
   ],
   "source": [
    "print(reader.predict_on_texts(question=question, texts=[context], top_k=1))"
   ]
  },
  {
   "attachments": {},
   "cell_type": "markdown",
   "metadata": {},
   "source": [
    "# Colocando tudo junto"
   ]
  },
  {
   "cell_type": "code",
   "execution_count": 45,
   "metadata": {},
   "outputs": [],
   "source": [
    "from haystack.pipelines import ExtractiveQAPipeline\n",
    "pipe = ExtractiveQAPipeline(reader, es_retriever)"
   ]
  },
  {
   "cell_type": "code",
   "execution_count": 46,
   "metadata": {},
   "outputs": [
    {
     "name": "stdout",
     "output_type": "stream",
     "text": [
      "Question: Is it good for reading? \n",
      "\n"
     ]
    }
   ],
   "source": [
    "n_answers = 3\n",
    "preds = pipe.run(query=query, params={\n",
    "    \"Retriever\": {\"top_k\": 3},\n",
    "    \"Reader\": {\"top_k\": n_answers},\n",
    "    \"filters\": {\n",
    "        \"item_id\": [item_id],\n",
    "        \"split\": [\"train\"]\n",
    "    }})\n",
    "print(f\"Question: {preds['query']} \\n\")"
   ]
  },
  {
   "cell_type": "code",
   "execution_count": 47,
   "metadata": {},
   "outputs": [
    {
     "name": "stdout",
     "output_type": "stream",
     "text": [
      "\n",
      "Answer 1: it is great for reading books when no light is available\n",
      "Review snippet: ...ecoming addicted to hers! Our son LOVES it and it is great for reading books when no light is available. Amazing sound but I suggest good headphones t...\n",
      "\n",
      "\n",
      "\n",
      "\n",
      "Answer 2: I mainly use it for book reading\n",
      "Review snippet: ... is my third one.  I never thought I would want a fire for I mainly use it for book reading.  I decided to try the fire for when I travel I take my la...\n",
      "\n",
      "\n",
      "\n",
      "\n",
      "Answer 3: \n",
      "Review snippet: ...None...\n",
      "\n",
      "\n",
      "\n"
     ]
    }
   ],
   "source": [
    "for idx in range(n_answers):\n",
    "  print(\"\")\n",
    "  print(f\"Answer {idx+1}: {preds['answers'][idx].answer}\")\n",
    "  print(f\"Review snippet: ...{preds['answers'][idx].context}...\")\n",
    "  print(\"\\n\\n\")"
   ]
  },
  {
   "attachments": {},
   "cell_type": "markdown",
   "metadata": {},
   "source": [
    "# Melhorando nosso Pipe de QA\n",
    "## Avaliando o Retriever\n",
    "Avaliar o Retriever é o mesmo que avaliar um `DocumentSearchPipeline`, que consiste em único nó, um Retriever."
   ]
  },
  {
   "cell_type": "code",
   "execution_count": 69,
   "metadata": {},
   "outputs": [],
   "source": [
    "from haystack.pipelines import DocumentSearchPipeline\n",
    "\n",
    "pipe = DocumentSearchPipeline(es_retriever)"
   ]
  },
  {
   "cell_type": "code",
   "execution_count": 70,
   "metadata": {},
   "outputs": [],
   "source": [
    "from haystack import Label, Answer, Document\n",
    "\n",
    "labels = []\n",
    "\n",
    "for i, row in dfs[\"test\"].iterrows():\n",
    "    # Metadata used for filtering in the Retriever\n",
    "    meta = {\"item_id\": row[\"title\"], \"question_id\": row[\"id\"]}\n",
    "    # Populate labels for questions with answers\n",
    "    if len(row[\"answers.text\"]):\n",
    "        for answer in row[\"answers.text\"]:\n",
    "            label = Label(\n",
    "                query=row[\"question\"], answer=Answer(answer=answer), origin=\"gold-label\", document=Document(content=row[\"context\"], id=row[\"review_id\"]),\n",
    "                meta=meta, is_correct_answer=True, is_correct_document=True,\n",
    "                no_answer=False, filters={\"item_id\": [meta[\"item_id\"]], \"split\":[\"test\"]})\n",
    "            labels.append(label)\n",
    "    # Populate labels for questions without answers\n",
    "    else:\n",
    "        label = Label(\n",
    "            query=row[\"question\"], answer=Answer(answer=\"\"), origin=\"gold-label\", document=Document(content=row[\"context\"], id=row[\"review_id\"]),\n",
    "            meta=meta, is_correct_answer=True, is_correct_document=True,\n",
    "            no_answer=True, filters={\"item_id\": [row[\"title\"]], \"split\":[\"test\"]})  \n",
    "        labels.append(label)"
   ]
  },
  {
   "cell_type": "code",
   "execution_count": 72,
   "metadata": {},
   "outputs": [],
   "source": [
    "document_store.write_labels(labels, index=\"label\")"
   ]
  },
  {
   "cell_type": "code",
   "execution_count": 73,
   "metadata": {},
   "outputs": [
    {
     "name": "stdout",
     "output_type": "stream",
     "text": [
      "Loaded 910 question-answer pairs\n"
     ]
    }
   ],
   "source": [
    "print(f\"\"\"Loaded {document_store.get_label_count(index=\"label\")} \\\n",
    "question-answer pairs\"\"\")"
   ]
  },
  {
   "cell_type": "code",
   "execution_count": 74,
   "metadata": {},
   "outputs": [
    {
     "name": "stdout",
     "output_type": "stream",
     "text": [
      "660\n"
     ]
    }
   ],
   "source": [
    "labels_agg = document_store.get_all_labels_aggregated(\n",
    "    index=\"label\",\n",
    "    open_domain=True,\n",
    "    aggregate_by_meta=[\"item_id\"]\n",
    ")\n",
    "print(len(labels_agg))"
   ]
  },
  {
   "cell_type": "code",
   "execution_count": 75,
   "metadata": {},
   "outputs": [],
   "source": [
    "# We can run the pipeline with the desired top_k value like this\n",
    "eval_result = pipe.eval(\n",
    "    labels=labels_agg,\n",
    "    params={\"Retriever\": {\"top_k\": 3}},\n",
    ")\n",
    "metrics = eval_result.calculate_metrics()"
   ]
  },
  {
   "cell_type": "code",
   "execution_count": 76,
   "metadata": {},
   "outputs": [
    {
     "name": "stdout",
     "output_type": "stream",
     "text": [
      "Recall@3: 0.93\n"
     ]
    }
   ],
   "source": [
    "print(f\"Recall@3: {metrics['Retriever']['recall_single_hit']:.2f}\")"
   ]
  },
  {
   "cell_type": "code",
   "execution_count": 78,
   "metadata": {},
   "outputs": [],
   "source": [
    "def evaluate_retriever(retriever, topk_values = [1,3,5,10,20]):\n",
    "    topk_results = {}\n",
    "    # Calculate max top_k\n",
    "    max_top_k = max(topk_values)\n",
    "    # Create Pipeline\n",
    "    p = DocumentSearchPipeline(retriever=retriever)\n",
    "    # Run inference with max top_k by looping over each question-answers pair in test set\n",
    "    eval_result = p.eval(\n",
    "        labels=labels_agg,\n",
    "        params={\"Retriever\": {\"top_k\": max_top_k}},\n",
    "    )\n",
    "    # Calculate metric for each top_k value\n",
    "    for topk in topk_values:        \n",
    "        # Get metrics\n",
    "        metrics = eval_result.calculate_metrics(simulated_top_k_retriever=topk)\n",
    "        topk_results[topk] = {\"recall\": metrics[\"Retriever\"][\"recall_single_hit\"]}\n",
    "        \n",
    "    return pd.DataFrame.from_dict(topk_results, orient=\"index\")\n",
    "\n",
    "\n",
    "es_retriever_topk_df = evaluate_retriever(es_retriever)"
   ]
  },
  {
   "cell_type": "code",
   "execution_count": 79,
   "metadata": {},
   "outputs": [
    {
     "data": {
      "image/png": "[encoded data removed]",
      "text/plain": [
       "<Figure size 640x480 with 1 Axes>"
      ]
     },
     "metadata": {},
     "output_type": "display_data"
    }
   ],
   "source": [
    "def plot_retriever_eval(dfs, retriever_names):\n",
    "    fig, ax = plt.subplots()\n",
    "    for df, retriever_name in zip(dfs, retriever_names):\n",
    "        df.plot(y=\"recall\", ax=ax, label=retriever_name)\n",
    "    plt.xticks(df.index)\n",
    "    plt.ylabel(\"Top-k Recall\")\n",
    "    plt.xlabel(\"k\")\n",
    "    plt.show()\n",
    "    \n",
    "plot_retriever_eval([es_retriever_topk_df], [\"BM25\"])"
   ]
  },
  {
   "cell_type": "code",
   "execution_count": null,
   "metadata": {},
   "outputs": [],
   "source": [
    "from haystack.nodes import DensePassageRetriever\n",
    "\n",
    "dpr_retriever = DensePassageRetriever(document_store=document_store,\n",
    "    query_embedding_model=\"facebook/dpr-question_encoder-single-nq-base\",\n",
    "    passage_embedding_model=\"facebook/dpr-ctx_encoder-single-nq-base\",\n",
    "    embed_title=False)"
   ]
  },
  {
   "cell_type": "code",
   "execution_count": 81,
   "metadata": {},
   "outputs": [
    {
     "data": {
      "application/vnd.jupyter.widget-view+json": {
       "model_id": "8b55aca358a64b59939828e83e4ec844",
       "version_major": 2,
       "version_minor": 0
      },
      "text/plain": [
       "Updating embeddings:   0%|          | 0/1615 [00:00<?, ? Docs/s]"
      ]
     },
     "metadata": {},
     "output_type": "display_data"
    },
    {
     "data": {
      "application/vnd.jupyter.widget-view+json": {
       "model_id": "15ad8cba37f84b058e61da955104c4a1",
       "version_major": 2,
       "version_minor": 0
      },
      "text/plain": [
       "Create embeddings:   0%|          | 0/1616 [00:00<?, ? Docs/s]"
      ]
     },
     "metadata": {},
     "output_type": "display_data"
    }
   ],
   "source": [
    "document_store.update_embeddings(retriever=dpr_retriever)"
   ]
  },
  {
   "cell_type": "code",
   "execution_count": 82,
   "metadata": {},
   "outputs": [
    {
     "data": {
      "image/png": "[encoded data removed]",
      "text/plain": [
       "<Figure size 640x480 with 1 Axes>"
      ]
     },
     "metadata": {},
     "output_type": "display_data"
    }
   ],
   "source": [
    "dpr_topk_df = evaluate_retriever(dpr_retriever)\n",
    "plot_retriever_eval([es_retriever_topk_df, dpr_topk_df], [\"BM25\", \"DPR\"])"
   ]
  },
  {
   "attachments": {},
   "cell_type": "markdown",
   "metadata": {},
   "source": [
    "## Avaliando o Reader"
   ]
  },
  {
   "attachments": {},
   "cell_type": "markdown",
   "metadata": {},
   "source": [
    "Em QA extrativo há duas formas de ser avaliar o Reader:\n",
    "- Exact Match (EM): binario, retorna 1 se os caracteres no predito e no \"ground truth\" são iguais.\n",
    "- F1 score: média harmonica entre a precisao e o recall"
   ]
  },
  {
   "cell_type": "code",
   "execution_count": 83,
   "metadata": {},
   "outputs": [
    {
     "name": "stdout",
     "output_type": "stream",
     "text": [
      "EM: 0\n",
      "F1: 0.8\n"
     ]
    }
   ],
   "source": [
    "from haystack.modeling.evaluation.squad import compute_f1, compute_exact\n",
    "\n",
    "pred = \"about 6000 hours\"\n",
    "label = \"6000 hours\"\n",
    "print(f\"EM: {compute_exact(label, pred)}\")\n",
    "print(f\"F1: {compute_f1(label, pred)}\")"
   ]
  },
  {
   "cell_type": "code",
   "execution_count": 84,
   "metadata": {},
   "outputs": [
    {
     "name": "stdout",
     "output_type": "stream",
     "text": [
      "EM: 0\n",
      "F1: 0.4\n"
     ]
    }
   ],
   "source": [
    "pred = \"about 6000 dollars\"\n",
    "print(f\"EM: {compute_exact(label, pred)}\")\n",
    "print(f\"F1: {compute_f1(label, pred)}\")"
   ]
  },
  {
   "cell_type": "code",
   "execution_count": 85,
   "metadata": {},
   "outputs": [],
   "source": [
    "from haystack.pipelines import Pipeline\n",
    "def evaluate_reader(reader):\n",
    "    score_keys = ['exact_match', 'f1']\n",
    "    p = Pipeline()\n",
    "    p.add_node(component=reader, name=\"Reader\", inputs=[\"Query\"])\n",
    "\n",
    "    eval_result = p.eval(\n",
    "        labels=labels_agg,\n",
    "        documents= [[label.document for label in multilabel.labels] for multilabel in labels_agg],\n",
    "        params={},\n",
    "    )\n",
    "    metrics = eval_result.calculate_metrics(simulated_top_k_reader=1)\n",
    "                \n",
    "    return {k:v for k,v in metrics[\"Reader\"].items() if k in score_keys}\n",
    "\n",
    "reader_eval = {}\n",
    "reader_eval[\"Fine-tune on SQuAD\"] = evaluate_reader(reader)"
   ]
  },
  {
   "attachments": {},
   "cell_type": "markdown",
   "metadata": {},
   "source": [
    "In the first version no_answer labels weren't taken into account. Because there are quite many of them in the evaluation dataset the numbers differ significantly compared to the first version (EM was at ~0.07 and f1 at ~0.25)."
   ]
  },
  {
   "cell_type": "code",
   "execution_count": 86,
   "metadata": {},
   "outputs": [
    {
     "data": {
      "image/png": "[encoded data removed]",
      "text/plain": [
       "<Figure size 640x480 with 1 Axes>"
      ]
     },
     "metadata": {},
     "output_type": "display_data"
    }
   ],
   "source": [
    "def plot_reader_eval(reader_eval):\n",
    "    fig, ax = plt.subplots()\n",
    "    df = pd.DataFrame.from_dict(reader_eval).reindex([\"exact_match\", \"f1\"])\n",
    "    df.plot(kind=\"bar\", ylabel=\"Score\", rot=0, ax=ax)\n",
    "    ax.set_xticklabels([\"EM\", \"F1\"])\n",
    "    plt.legend(loc='upper left')\n",
    "    plt.show()\n",
    "\n",
    "plot_reader_eval(reader_eval)"
   ]
  },
  {
   "attachments": {},
   "cell_type": "markdown",
   "metadata": {},
   "source": [
    "Parece que o modelo ajustado tem um desempenho significativamente pior no SubjQA do que no SQuAD 2.0, onde o MiniLM atinge pontuações EM e F1 de 76,1 e 79,5, respectivamente."
   ]
  },
  {
   "attachments": {},
   "cell_type": "markdown",
   "metadata": {},
   "source": [
    "# Adaptacao do dominio (fine tune on squad + subqja)"
   ]
  },
  {
   "cell_type": "code",
   "execution_count": 87,
   "metadata": {},
   "outputs": [],
   "source": [
    "def create_paragraphs(df):\n",
    "    paragraphs = []\n",
    "    id2context = dict(zip(df[\"review_id\"], df[\"context\"]))\n",
    "    for review_id, review in id2context.items():\n",
    "        qas = []\n",
    "        # Filter for all question-answer pairs about a specific context\n",
    "        review_df = df.query(f\"review_id == '{review_id}'\")\n",
    "        id2question = dict(zip(review_df[\"id\"], review_df[\"question\"]))\n",
    "        # Build up the qas array\n",
    "        for qid, question in id2question.items():\n",
    "            # Filter for a single question ID\n",
    "            question_df = df.query(f\"id == '{qid}'\").to_dict(orient=\"list\")\n",
    "            ans_start_idxs = question_df[\"answers.answer_start\"][0].tolist()\n",
    "            ans_text = question_df[\"answers.text\"][0].tolist()\n",
    "            # Fill answerable questions\n",
    "            if len(ans_start_idxs):\n",
    "                answers = [\n",
    "                    {\"text\": text, \"answer_start\": answer_start}\n",
    "                    for text, answer_start in zip(ans_text, ans_start_idxs)]\n",
    "                is_impossible = False\n",
    "            else:\n",
    "                answers = []\n",
    "                is_impossible = True\n",
    "            # Add question-answer pairs to qas\n",
    "            qas.append({\"question\": question, \"id\": qid, \n",
    "                        \"is_impossible\": is_impossible, \"answers\": answers})\n",
    "        # Add context and question-answer pairs to paragraphs\n",
    "        paragraphs.append({\"qas\": qas, \"context\": review})\n",
    "    return paragraphs\n",
    "     "
   ]
  },
  {
   "cell_type": "code",
   "execution_count": 88,
   "metadata": {},
   "outputs": [
    {
     "data": {
      "text/plain": [
       "[{'qas': [{'question': 'How is the bass?',\n",
       "    'id': '2543d296da9766d8d17d040ecc781699',\n",
       "    'is_impossible': True,\n",
       "    'answers': []}],\n",
       "  'context': 'I have had Koss headphones in the past, Pro 4AA and QZ-99.  The Koss Portapro is portable AND has great bass response.  The work great with my Android phone and can be \"rolled up\" to be carried in my motorcycle jacket or computer bag without getting crunched.  They are very light and do not feel heavy or bear down on your ears even after listening to music with them on all day.  The sound is night and day better than any ear-bud could be and are almost as good as the Pro 4AA.  They are \"open air\" headphones so you cannot match the bass to the sealed types, but it comes close. For $32, you cannot go wrong.'},\n",
       " {'qas': [{'question': 'Is this music song have a goo bass?',\n",
       "    'id': 'd476830bf9282e2b9033e2bb44bbb995',\n",
       "    'is_impossible': False,\n",
       "    'answers': [{'text': 'Bass is weak as expected', 'answer_start': 1302},\n",
       "     {'text': 'Bass is weak as expected, even with EQ adjusted up',\n",
       "      'answer_start': 1302}]}],\n",
       "  'context': 'To anyone who hasn\\'t tried all the various types of headphones, it is important to remember exactly what these are: cheap portable on-ear headphones. They give a totally different sound then in-ears or closed design phones, but for what they are I would say they\\'re good. I currently own six pairs of phones, from stock apple earbuds to Sennheiser HD 518s. Gave my Portapros a run on both my computer\\'s sound card and mp3 player, using 256 kbps mp3s or better. The clarity is good and they\\'re very lightweight. The folding design is simple but effective. The look is certainly retro and unique, although I didn\\'t find it as comfortable as many have claimed. Earpads are *very* thin and made my ears sore after 30 minutes of listening, although this can be remedied to a point by adjusting the \"comfort zone\" feature (tightening the temple pads while loosening the ear pads). The cord seems to be an average thickness, but I wouldn\\'t get too rough with these. The steel headband adjusts smoothly and easily, just watch out that the slider doesn\\'t catch your hair. Despite the sore ears, the phones are very lightweight overall.Back to the sound: as you would expect, it\\'s good for a portable phone, but hardly earth shattering. At flat EQ the clarity is good, although the highs can sometimes be harsh. Bass is weak as expected, even with EQ adjusted up. To be fair, a portable on-ear would have a tough time comparing to the bass of an in-ear with a good seal or a pair with larger drivers. No sound isolation offered if you\\'re into that sort of thing. Cool 80s phones, though I\\'ve certainly owned better portable on-ears (Sony makes excellent phones in this category). Soundstage is very narrow and lacks body. A good value if you can get them for under thirty, otherwise I\\'d rather invest in a nicer pair of phones. If we\\'re talking about value, they\\'re a good buy compared to new stock apple buds. If you\\'re trying to compare the sound quality of this product to serious headphones, there\\'s really no comparison at all.Update: After 100 hours of burn-in time the sound has not been affected in any appreciable way. Highs are still harsh, and bass is still underwhelming. I sometimes use these as a convenience but they have been largely replaced in my collection.'},\n",
       " {'qas': [{'question': 'How is the bass?',\n",
       "    'id': '455575557886d6dfeea5aa19577e5de4',\n",
       "    'is_impossible': False,\n",
       "    'answers': [{'text': 'The only fault in the sound is the bass',\n",
       "      'answer_start': 650}]}],\n",
       "  'context': \"I have had many sub-$100 headphones from $5 Panasonic to $100 Sony, with Sennheiser HD 433, 202, PX100 II (I really wanted to like these PX100-II, they were so very well designed), and even a Grado SR60 for awhile.  And what it basically comes down to is value.  I have never heard sound as good as these headphones in the $35 range, easily the best under $75.  I can't believe they're over 25 years old.It's hard to describe how much detail these headphones bring out without making it too harsh or dull.  I listen to every type of music from classical to hip hop to electronic to country, and these headphones are suitable for all types of music.  The only fault in the sound is the bass.  It's just a *slight* bit boomy, but you get to like it after a while to be honest.The design is from the 80s as you all have probably figured out.  It could use a update but it seems like Koss has tried to perfect this formula and failed in the past.  I don't really care about the looks or the way it folds up or the fact that my hair gets caught up in it (I have very short hair, even for a male).But despite it's design flaws, it's the most comfortable headphones I have ever worn, and the best part is that it's also the best sounding pair of headphones I have ever heard under $75.If you can get over the design flaws or if sound is the most important feature of headphones for you, there is nothing even close to this at this price range.This one is an absolute GEM.  I loved these so much I ordered two of the 25th Anniversary ones for a bit more.Update: I read some reviews about the PX100-II being much improved and better sounding than the PortaPro.  Since the PX100-II is relatively new, I thought I'd give it another listen.  This time I noticed something different.  The sound is warm, mellow, and neutral, but it loses a lot of detail at the expense of these attributes.  I still prefer higher-detail Portapro, but some may prefer the more mellow sound of the PX100-II.Oh by the way the Portapro comes in the straight plug now, not the angled plug anymore.  It's supposed to be for better compatibility with the iPods and iPhones out there.\"}]"
      ]
     },
     "execution_count": 88,
     "metadata": {},
     "output_type": "execute_result"
    }
   ],
   "source": [
    "product = dfs[\"train\"].query(\"title == 'B00001P4ZH'\")\n",
    "create_paragraphs(product)"
   ]
  },
  {
   "cell_type": "code",
   "execution_count": 89,
   "metadata": {},
   "outputs": [],
   "source": [
    "import json\n",
    "\n",
    "def convert_to_squad(dfs):\n",
    "    for split, df in dfs.items():\n",
    "        subjqa_data = {}\n",
    "        # Create `paragraphs` for each product ID\n",
    "        groups = (df.groupby(\"title\").apply(create_paragraphs)\n",
    "            .to_frame(name=\"paragraphs\").reset_index())\n",
    "        subjqa_data[\"data\"] = groups.to_dict(orient=\"records\")\n",
    "        # Save the result to disk\n",
    "        with open(f\"electronics-{split}.json\", \"w+\", encoding=\"utf-8\") as f:\n",
    "            json.dump(subjqa_data, f)\n",
    "            \n",
    "convert_to_squad(dfs)"
   ]
  },
  {
   "cell_type": "code",
   "execution_count": 90,
   "metadata": {},
   "outputs": [
    {
     "name": "stderr",
     "output_type": "stream",
     "text": [
      "Preprocessing Dataset electronics-train.json:  13%|█▎        | 170/1265 [00:18<01:40, 10.91 Dicts/s]WARNING:haystack.modeling.data_handler.processor:Answer 'These earbuds are nothing special. Their best attribute is that they are cheap. The sound from them is nothing special. In comparison to my standard white IPod buds these seem to emphasize the higher frequencies. There seems to be nothing happening in the bass range with these. I don't think they are efficient enough to have much bass at all. To be fair, my IPod buds overly emphasize bass so they are not that accurate either. I also compared these to a pricy Sennheiser set that I've owned for a couple of years and let's just say there is a reason why the Sennheisers cost more.Surely these Panasonic buds are very nice to use if you think they might get damaged somehow in use as it will not break your heart to have to replace them. These might be especially useful if you only listen to talk radio or have high frequency hearing loss. If you really like to listen to the most of your music and you must wear earbuds then these are not for you.I also have to note that these are packaged in a difficult to open blister pack that required several passes with utility shears to break into. I hate to see all the plastic that has to be discarded just to get this product out of the package.Cosmetically, they are OK. They don't hurt my ears and are comfortable to me. They come with a couple of other size ear pieces if you are hard to fit. The wires take a set when folded so they are not very well-behaved and don't coil nicely and lie flat when you put them away. These will be a little bird's nest of tangled wires when you set them aside. ANSWERNOTFOUND' not contained in context.\n",
      "Example will not be converted for training/evaluation.\n",
      "Preprocessing Dataset electronics-train.json:  27%|██▋       | 340/1265 [00:20<00:36, 25.48 Dicts/s]WARNING:haystack.modeling.data_handler.processor:Answer using start/end indices is '  Operation of the menus and contro' while gold label text is 'Operation of the menus and controls'.\n",
      "Example will not be converted for training/evaluation.\n",
      "WARNING:haystack.modeling.data_handler.processor:Answer using start/end indices is '  This camera performs like the pros.  Fast accurate and easy to operat' while gold label text is 'This camera performs like the pros.  Fast accurate and easy to operated'.\n",
      "Example will not be converted for training/evaluation.\n",
      "Preprocessing Dataset electronics-train.json:  74%|███████▍  | 935/1265 [00:21<00:02, 128.11 Dicts/s]WARNING:haystack.modeling.data_handler.processor:Answer 'enjoy my music.  When I used my old one ear headset for music, the connection was not that good even if I put the phone in my pants pocket.  I used it on iPhone 4S and iPad 3 for music, phone calls, and audible app.  All Bluetooth controls work fine. ANSWERNOTFOUND' not contained in context.\n",
      "Example will not be converted for training/evaluation.\n",
      "Preprocessing Dataset electronics-train.json:  87%|████████▋ | 1105/1265 [00:22<00:00, 180.21 Dicts/s]WARNING:haystack.modeling.data_handler.processor:Answer 'is good.  First unit defective.  Directions are weak and limited, Net support just plain bad. Roku insists on registration, [I think SEVEN times for us] before asking dumb questions and forcing us to run from computer to TV and back.  This is a Roku 3, and apparently it's too new for them to handle. ANSWERNOTFOUND' not contained in context.\n",
      "Example will not be converted for training/evaluation.\n",
      "Preprocessing Dataset electronics-train.json: 100%|██████████| 1265/1265 [00:22<00:00, 56.53 Dicts/s] \n",
      "ERROR:haystack.modeling.data_handler.processor:Unable to convert 5 samples to features. Their ids are : 572-0-0, 471-0-0, 595-0-0, 1167-0-0, 1099-0-0\n",
      "Preprocessing Dataset electronics-validation.json: 100%|██████████| 252/252 [00:14<00:00, 17.46 Dicts/s]\n"
     ]
    }
   ],
   "source": [
    "train_filename = \"electronics-train.json\"\n",
    "dev_filename = \"electronics-validation.json\"\n",
    "\n",
    "reader.train(data_dir=\".\", use_gpu=True, n_epochs=1, batch_size=16,\n",
    "             train_filename=train_filename, dev_filename=dev_filename)"
   ]
  },
  {
   "cell_type": "code",
   "execution_count": 91,
   "metadata": {},
   "outputs": [],
   "source": [
    "reader_eval[\"Fine-tune on SQuAD + SubjQA\"] = evaluate_reader(reader)"
   ]
  },
  {
   "cell_type": "code",
   "execution_count": 92,
   "metadata": {},
   "outputs": [
    {
     "data": {
      "image/png": "[encoded data removed]",
      "text/plain": [
       "<Figure size 640x480 with 1 Axes>"
      ]
     },
     "metadata": {},
     "output_type": "display_data"
    }
   ],
   "source": [
    "plot_reader_eval(reader_eval)\n"
   ]
  },
  {
   "attachments": {},
   "cell_type": "markdown",
   "metadata": {},
   "source": [
    "Podemos ver que a adaptacao do dominio melhorou nosso f1 e EM"
   ]
  },
  {
   "cell_type": "code",
   "execution_count": null,
   "metadata": {},
   "outputs": [],
   "source": [
    "minilm_ckpt = \"microsoft/MiniLM-L12-H384-uncased\"\n",
    "minilm_reader = FARMReader(model_name_or_path=minilm_ckpt, progress_bar=False,\n",
    "                           max_seq_len=max_seq_length, doc_stride=doc_stride,\n",
    "                           return_no_answer=True)"
   ]
  },
  {
   "cell_type": "code",
   "execution_count": 94,
   "metadata": {},
   "outputs": [
    {
     "name": "stderr",
     "output_type": "stream",
     "text": [
      "Preprocessing Dataset electronics-train.json:  13%|█▎        | 170/1265 [00:14<01:17, 14.09 Dicts/s]WARNING:haystack.modeling.data_handler.processor:Answer 'These earbuds are nothing special. Their best attribute is that they are cheap. The sound from them is nothing special. In comparison to my standard white IPod buds these seem to emphasize the higher frequencies. There seems to be nothing happening in the bass range with these. I don't think they are efficient enough to have much bass at all. To be fair, my IPod buds overly emphasize bass so they are not that accurate either. I also compared these to a pricy Sennheiser set that I've owned for a couple of years and let's just say there is a reason why the Sennheisers cost more.Surely these Panasonic buds are very nice to use if you think they might get damaged somehow in use as it will not break your heart to have to replace them. These might be especially useful if you only listen to talk radio or have high frequency hearing loss. If you really like to listen to the most of your music and you must wear earbuds then these are not for you.I also have to note that these are packaged in a difficult to open blister pack that required several passes with utility shears to break into. I hate to see all the plastic that has to be discarded just to get this product out of the package.Cosmetically, they are OK. They don't hurt my ears and are comfortable to me. They come with a couple of other size ear pieces if you are hard to fit. The wires take a set when folded so they are not very well-behaved and don't coil nicely and lie flat when you put them away. These will be a little bird's nest of tangled wires when you set them aside. ANSWERNOTFOUND' not contained in context.\n",
      "Example will not be converted for training/evaluation.\n",
      "Preprocessing Dataset electronics-train.json:  27%|██▋       | 340/1265 [00:14<00:25, 35.70 Dicts/s]WARNING:haystack.modeling.data_handler.processor:Answer using start/end indices is '  Operation of the menus and contro' while gold label text is 'Operation of the menus and controls'.\n",
      "Example will not be converted for training/evaluation.\n",
      "WARNING:haystack.modeling.data_handler.processor:Answer using start/end indices is '  This camera performs like the pros.  Fast accurate and easy to operat' while gold label text is 'This camera performs like the pros.  Fast accurate and easy to operated'.\n",
      "Example will not be converted for training/evaluation.\n",
      "Preprocessing Dataset electronics-train.json:  74%|███████▍  | 935/1265 [00:16<00:02, 152.16 Dicts/s]WARNING:haystack.modeling.data_handler.processor:Answer 'enjoy my music.  When I used my old one ear headset for music, the connection was not that good even if I put the phone in my pants pocket.  I used it on iPhone 4S and iPad 3 for music, phone calls, and audible app.  All Bluetooth controls work fine. ANSWERNOTFOUND' not contained in context.\n",
      "Example will not be converted for training/evaluation.\n",
      "Preprocessing Dataset electronics-train.json:  87%|████████▋ | 1105/1265 [00:16<00:00, 213.15 Dicts/s]WARNING:haystack.modeling.data_handler.processor:Answer 'is good.  First unit defective.  Directions are weak and limited, Net support just plain bad. Roku insists on registration, [I think SEVEN times for us] before asking dumb questions and forcing us to run from computer to TV and back.  This is a Roku 3, and apparently it's too new for them to handle. ANSWERNOTFOUND' not contained in context.\n",
      "Example will not be converted for training/evaluation.\n",
      "Preprocessing Dataset electronics-train.json: 100%|██████████| 1265/1265 [00:16<00:00, 75.30 Dicts/s] \n",
      "ERROR:haystack.modeling.data_handler.processor:Unable to convert 5 samples to features. Their ids are : 572-0-0, 471-0-0, 595-0-0, 1167-0-0, 1099-0-0\n",
      "Preprocessing Dataset electronics-validation.json: 100%|██████████| 252/252 [00:11<00:00, 21.79 Dicts/s]\n"
     ]
    }
   ],
   "source": [
    "minilm_reader.train(data_dir=\".\", use_gpu=True, n_epochs=1, batch_size=16,\n",
    "             train_filename=train_filename, dev_filename=dev_filename)"
   ]
  },
  {
   "cell_type": "code",
   "execution_count": 95,
   "metadata": {},
   "outputs": [],
   "source": [
    "reader_eval[\"Fine-tune on SubjQA\"] = evaluate_reader(minilm_reader)"
   ]
  },
  {
   "cell_type": "code",
   "execution_count": 96,
   "metadata": {},
   "outputs": [
    {
     "data": {
      "image/png": "[encoded data removed]",
      "text/plain": [
       "<Figure size 640x480 with 1 Axes>"
      ]
     },
     "metadata": {},
     "output_type": "display_data"
    }
   ],
   "source": [
    "plot_reader_eval(reader_eval)\n"
   ]
  },
  {
   "cell_type": "code",
   "execution_count": 97,
   "metadata": {},
   "outputs": [],
   "source": [
    "from haystack.pipelines import ExtractiveQAPipeline\n",
    "pipe = ExtractiveQAPipeline(retriever=es_retriever, reader=reader)\n",
    "\n",
    "# Evaluate!\n",
    "eval_result = pipe.eval(\n",
    "    labels=labels_agg,\n",
    "    params={},\n",
    ")\n",
    "metrics = eval_result.calculate_metrics(simulated_top_k_reader=1)\n",
    "# Extract metrics from reader\n",
    "reader_eval[\"QA Pipeline (top-1)\"] = {\n",
    "    k:v for k,v in metrics[\"Reader\"].items()\n",
    "    if k in [\"exact_match\", \"f1\"]}"
   ]
  },
  {
   "cell_type": "code",
   "execution_count": 106,
   "metadata": {},
   "outputs": [
    {
     "data": {
      "image/png": "[encoded data removed]",
      "text/plain": [
       "<Figure size 640x480 with 1 Axes>"
      ]
     },
     "metadata": {},
     "output_type": "display_data"
    }
   ],
   "source": [
    "plot_reader_eval({\"Reader\": reader_eval[\"Fine-tune on SQuAD + SubjQA\"], \n",
    "                  \"QA pipeline (top-1)\": reader_eval[\"QA Pipeline (top-1)\"]})"
   ]
  },
  {
   "cell_type": "code",
   "execution_count": null,
   "metadata": {},
   "outputs": [],
   "source": [
    "from haystack.nodes import RAGenerator\n",
    "\n",
    "generator = RAGenerator(model_name_or_path=\"facebook/rag-token-nq\",\n",
    "                        embed_title=False, num_beams=5)"
   ]
  },
  {
   "cell_type": "code",
   "execution_count": 102,
   "metadata": {},
   "outputs": [],
   "source": [
    "from haystack.pipelines import GenerativeQAPipeline\n",
    "\n",
    "pipe = GenerativeQAPipeline(generator=generator, retriever=dpr_retriever)"
   ]
  },
  {
   "cell_type": "code",
   "execution_count": 103,
   "metadata": {},
   "outputs": [],
   "source": [
    "def generate_answers(query, top_k_generator=3):\n",
    "    preds = pipe.run(query=query, \n",
    "                     params={\"Retriever\": {\"top_k\":5, \n",
    "                                  \"filters\":{\"item_id\": [\"B0074BW614\"]}},\n",
    "                             \"Generator\": {\"top_k\": top_k_generator}})  \n",
    "    print(f\"Question: {preds['query']} \\n\")\n",
    "    for idx in range(top_k_generator):\n",
    "        print(f\"Answer {idx+1}: {preds['answers'][idx].answer}\")"
   ]
  },
  {
   "cell_type": "code",
   "execution_count": 104,
   "metadata": {},
   "outputs": [
    {
     "name": "stderr",
     "output_type": "stream",
     "text": [
      "/Users/petropolis/Library/Python/3.9/lib/python/site-packages/transformers/generation_utils.py:2141: UserWarning: `max_length` is deprecated in this function, use `stopping_criteria=StoppingCriteriaList(MaxLengthCriteria(max_length=max_length))` instead.\n",
      "  warnings.warn(\n"
     ]
    },
    {
     "name": "stdout",
     "output_type": "stream",
     "text": [
      "Question: Is it good for reading? \n",
      "\n",
      "Answer 1:  the screen is absolutely beautiful\n",
      "Answer 2:  the Screen is absolutely beautiful\n",
      "Answer 3:  Kindle fire\n"
     ]
    }
   ],
   "source": [
    "generate_answers(query)"
   ]
  },
  {
   "cell_type": "code",
   "execution_count": 105,
   "metadata": {},
   "outputs": [
    {
     "name": "stdout",
     "output_type": "stream",
     "text": [
      "Question: What is the main drawback? \n",
      "\n",
      "Answer 1:  the price\n",
      "Answer 2:  no flash support\n",
      "Answer 3:  the cost\n"
     ]
    }
   ],
   "source": [
    "generate_answers(\"What is the main drawback?\")"
   ]
  }
 ],
 "metadata": {
  "kernelspec": {
   "display_name": "Python 3",
   "language": "python",
   "name": "python3"
  },
  "language_info": {
   "codemirror_mode": {
    "name": "ipython",
    "version": 3
   },
   "file_extension": ".py",
   "mimetype": "text/x-python",
   "name": "python",
   "nbconvert_exporter": "python",
   "pygments_lexer": "ipython3",
   "version": "3.9.6"
  },
  "orig_nbformat": 4
 },
 "nbformat": 4,
 "nbformat_minor": 2
}
